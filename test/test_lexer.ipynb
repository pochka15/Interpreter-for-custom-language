{
 "cells": [
  {
   "cell_type": "markdown",
   "metadata": {
    "pycharm": {
     "name": "#%% md\n"
    }
   },
   "source": [
    "## Prerequisites"
   ]
  },
  {
   "cell_type": "code",
   "execution_count": 56,
   "metadata": {
    "pycharm": {
     "name": "#%%\n"
    }
   },
   "outputs": [],
   "source": [
    "from main import initialized_lark_from_file\n",
    "\n",
    "lark = initialized_lark_from_file('../grammar.lark')\n",
    "\n",
    "def print_parsed(text_to_parse: str):\n",
    "    print(lark.parse(text_to_parse).pretty())"
   ]
  },
  {
   "cell_type": "markdown",
   "metadata": {},
   "source": [
    "## Import statements\n",
    "\n",
    "Grammar\n",
    "\n",
    "```txt\n",
    "start: import_statement* ((statement | declaration) (_NL (statement | declaration))*)?\n",
    "\n",
    "import_statement: import_name | import_from\n",
    "\n",
    "import_name: IMPORT as_name (\",\" as_name)*\n",
    "\n",
    "import_from: FROM (RELATIVE_LOCATION)? (NAME ((\".\") NAME)*)? IMPORT import_targets\n",
    "\n",
    "?import_targets: as_name (\",\" as_name)* | IMPORT_ALL\n",
    "\n",
    "?as_name: NAME (\"as\" NAME)?\n",
    "```"
   ]
  },
  {
   "cell_type": "markdown",
   "metadata": {
    "pycharm": {
     "name": "#%% md\n"
    }
   },
   "source": [
    "### Test '*' operator"
   ]
  },
  {
   "cell_type": "code",
   "execution_count": 2,
   "metadata": {
    "pycharm": {
     "name": "#%%\n"
    }
   },
   "outputs": [
    {
     "name": "stdout",
     "output_type": "stream",
     "text": [
      "start\n",
      "  import_statement\n",
      "    import_name\n",
      "      import\n",
      "      a\n",
      "  import_statement\n",
      "    import_name\n",
      "      import\n",
      "      b\n",
      "  import_statement\n",
      "    import_from\n",
      "      from\n",
      "      c\n",
      "      import\n",
      "      d\n",
      "\n"
     ]
    }
   ],
   "source": [
    "print(lark.parse(r\"import a import b from c import d\").pretty())"
   ]
  },
  {
   "cell_type": "markdown",
   "metadata": {
    "pycharm": {
     "name": "#%% md\n"
    }
   },
   "source": [
    "### Test multiple as imports\n",
    "\n",
    "Expected: from ..car.mercedes import 2 targets"
   ]
  },
  {
   "cell_type": "code",
   "execution_count": 3,
   "metadata": {
    "pycharm": {
     "name": "#%%\n"
    }
   },
   "outputs": [
    {
     "name": "stdout",
     "output_type": "stream",
     "text": [
      "start\n",
      "  import_statement\n",
      "    import_from\n",
      "      from\n",
      "      ..\n",
      "      car\n",
      "      mercedes\n",
      "      import\n",
      "      import_targets\n",
      "        as_name\n",
      "          print_car\n",
      "          p_cr\n",
      "        as_name\n",
      "          lol_kek\n",
      "          l_k\n",
      "\n"
     ]
    }
   ],
   "source": [
    "print(lark.parse(r\"\"\"\n",
    "from ..car.mercedes import print_car as p_cr, lol_kek as l_k\n",
    "\"\"\").pretty())"
   ]
  },
  {
   "cell_type": "markdown",
   "metadata": {
    "pycharm": {
     "name": "#%% md\n"
    }
   },
   "source": [
    "### Test '.' and '*' symbols in import statements\n",
    "\n",
    "Expected: correct recognition of symbols"
   ]
  },
  {
   "cell_type": "code",
   "execution_count": 4,
   "metadata": {
    "pycharm": {
     "name": "#%%\n"
    }
   },
   "outputs": [
    {
     "name": "stdout",
     "output_type": "stream",
     "text": [
      "start\n",
      "  import_statement\n",
      "    import_from\n",
      "      from\n",
      "      .\n",
      "      import\n",
      "      *\n",
      "\n"
     ]
    }
   ],
   "source": [
    "print(lark.parse(r\"\"\"\n",
    "from . import *\n",
    "\"\"\").pretty())"
   ]
  },
  {
   "cell_type": "markdown",
   "metadata": {
    "pycharm": {
     "name": "#%% md\n"
    }
   },
   "source": [
    "## Sequence of statements and declarations\n",
    "\n",
    "Grammar\n",
    "\n",
    "```txt\n",
    "start: import_statement* ((statement | declaration) (_NL (statement | declaration))*)?\n",
    "```"
   ]
  },
  {
   "cell_type": "markdown",
   "metadata": {
    "pycharm": {
     "name": "#%% md\n"
    }
   },
   "source": [
    "### Test a sequence of statements without a new line\n",
    "\n",
    "Expected: throw an error because y should go after a new line"
   ]
  },
  {
   "cell_type": "code",
   "execution_count": 5,
   "metadata": {
    "pycharm": {
     "name": "#%%\n"
    }
   },
   "outputs": [
    {
     "name": "stdout",
     "output_type": "stream",
     "text": [
      "OK, exception was raised\n",
      "No terminal defined for 'y' at line 1 col 11\n",
      "\n",
      "x = foo() y = bar\n",
      "          ^\n",
      "\n",
      "Expecting: {'COMPARISON_OPERATOR', '_NL', 'LESSTHAN', 'ADDITIVE_OPERATOR', '__ANON_0', 'DOT', 'LSQB', 'LPAR', '__ANON_1', 'MULTIPLICATIVE_OPERATOR', 'EQUALITY_OPERATOR'}\n",
      "\n"
     ]
    }
   ],
   "source": [
    "try:\n",
    "    test_snippet = r\"x = foo() y = bar\"\n",
    "    lark.parse(test_snippet).pretty()\n",
    "except Exception as ex:\n",
    "    print(\"OK, exception was raised\")\n",
    "    print(ex)\n",
    "else:\n",
    "    raise Exception(\"Exception must be raised\")"
   ]
  },
  {
   "cell_type": "markdown",
   "metadata": {
    "pycharm": {
     "name": "#%% md\n"
    }
   },
   "source": [
    "### Test a sequence of statements and declarations\n",
    "\n",
    "Expected: print 3 statements"
   ]
  },
  {
   "cell_type": "code",
   "execution_count": 6,
   "metadata": {
    "pycharm": {
     "name": "#%%\n"
    }
   },
   "outputs": [
    {
     "name": "stdout",
     "output_type": "stream",
     "text": [
      "start\n",
      "  statement\n",
      "    assignment\n",
      "      directly_assignable_expression\n",
      "        variable_declaration\n",
      "          x\n",
      "          type\n",
      "            simple_user_type\tint\n",
      "          val\n",
      "      disjunction\n",
      "        conjunction\n",
      "          equality\n",
      "            comparison\n",
      "              additive_expression\n",
      "                multiplicative_expression\n",
      "                  prefix_unary_expression\n",
      "                    postfix_unary_expression\n",
      "                      primary_expression\n",
      "                        simple_literal\t2\n",
      "  declaration\n",
      "    function_declaration\n",
      "      prt\n",
      "      function_parameters\n",
      "        some_val\n",
      "        type\n",
      "          simple_user_type\tint\n",
      "      str\n",
      "      statements_block\n",
      "        statement\n",
      "          jump_statement\n",
      "            return\n",
      "            disjunction\n",
      "              conjunction\n",
      "                equality\n",
      "                  comparison\n",
      "                    additive_expression\n",
      "                      multiplicative_expression\n",
      "                        prefix_unary_expression\n",
      "                          postfix_unary_expression\n",
      "                            primary_expression\n",
      "                              simple_literal\t\"prt\"\n",
      "                      +\n",
      "                      multiplicative_expression\n",
      "                        prefix_unary_expression\n",
      "                          postfix_unary_expression\n",
      "                            primary_expression\tstr\n",
      "                            postfix_unary_suffix\n",
      "                              call_suffix\n",
      "                                function_call_arguments\n",
      "                                  disjunction\n",
      "                                    conjunction\n",
      "                                      equality\n",
      "                                        comparison\n",
      "                                          additive_expression\n",
      "                                            multiplicative_expression\n",
      "                                              prefix_unary_expression\n",
      "                                                postfix_unary_expression\n",
      "                                                  primary_expression\tsome_val\n",
      "  statement\n",
      "    disjunction\n",
      "      conjunction\n",
      "        equality\n",
      "          comparison\n",
      "            additive_expression\n",
      "              multiplicative_expression\n",
      "                prefix_unary_expression\n",
      "                  postfix_unary_expression\n",
      "                    primary_expression\tprt\n",
      "                    postfix_unary_suffix\n",
      "                      call_suffix\n",
      "                        function_call_arguments\n",
      "                          disjunction\n",
      "                            conjunction\n",
      "                              equality\n",
      "                                comparison\n",
      "                                  additive_expression\n",
      "                                    multiplicative_expression\n",
      "                                      prefix_unary_expression\n",
      "                                        postfix_unary_expression\n",
      "                                          primary_expression\tx\n",
      "\n"
     ]
    }
   ],
   "source": [
    "test_snippet = r\"\"\"\n",
    "x int val = 2\n",
    "prt(some_val int) str {\n",
    "    return \"prt\" + str(some_val)\n",
    "}\n",
    "prt(x)\n",
    "\"\"\"\n",
    "print(lark.parse(test_snippet).pretty())"
   ]
  },
  {
   "cell_type": "markdown",
   "source": [
    "## Test function declaration\n",
    "\n",
    "### Grammar\n",
    "\n",
    "```txt\n",
    "function_declaration: NAME type_arguments? function_parameters\n",
    "FUNCTION_VISIBILITY_MODIFIER? (ABSTRACT|OVERRIDDEN)? FUNCTION_RETURN_TYPE? \"{\" statements_block \"}\"\n",
    "```\n",
    "\n",
    "### Function declaration with type parameters\n",
    "\n",
    "Expected: one function declaration with 2 type parameters"
   ],
   "metadata": {
    "collapsed": false,
    "pycharm": {
     "name": "#%% md\n"
    }
   }
  },
  {
   "cell_type": "code",
   "execution_count": 7,
   "outputs": [
    {
     "name": "stdout",
     "output_type": "stream",
     "text": [
      "start\n",
      "  declaration\n",
      "    function_declaration\n",
      "      print\n",
      "      type_arguments\n",
      "        type\n",
      "          simple_user_type\tT1\n",
      "        type\n",
      "          simple_user_type\tT2\n",
      "      function_parameters\n",
      "      statements_block\n",
      "        statement\n",
      "          jump_statement\n",
      "            return\n",
      "            disjunction\n",
      "              conjunction\n",
      "                equality\n",
      "                  comparison\n",
      "                    additive_expression\n",
      "                      multiplicative_expression\n",
      "                        prefix_unary_expression\n",
      "                          postfix_unary_expression\n",
      "                            primary_expression\n",
      "                              simple_literal\t\"With type\"\n",
      "\n"
     ]
    }
   ],
   "source": [
    "print_parsed(r\"\"\"\n",
    "print<T1, T2>(){\n",
    "    return \"With type\"\n",
    "}\"\"\")"
   ],
   "metadata": {
    "collapsed": false,
    "pycharm": {
     "name": "#%%\n"
    }
   }
  },
  {
   "cell_type": "markdown",
   "source": [
    "### Function declaration without type parameters\n",
    "\n",
    "Expected: just 1 function declaration"
   ],
   "metadata": {
    "collapsed": false,
    "pycharm": {
     "name": "#%% md\n"
    }
   }
  },
  {
   "cell_type": "code",
   "execution_count": 8,
   "outputs": [
    {
     "name": "stdout",
     "output_type": "stream",
     "text": [
      "start\n",
      "  declaration\n",
      "    function_declaration\n",
      "      print\n",
      "      function_parameters\n",
      "      statements_block\n",
      "        statement\n",
      "          jump_statement\n",
      "            return\n",
      "            disjunction\n",
      "              conjunction\n",
      "                equality\n",
      "                  comparison\n",
      "                    additive_expression\n",
      "                      multiplicative_expression\n",
      "                        prefix_unary_expression\n",
      "                          postfix_unary_expression\n",
      "                            primary_expression\n",
      "                              simple_literal\t\"Without type\"\n",
      "\n"
     ]
    }
   ],
   "source": [
    "print_parsed(r\"\"\"\n",
    "print(){\n",
    "    return \"Without type\"\n",
    "}\"\"\"\n",
    ")"
   ],
   "metadata": {
    "collapsed": false,
    "pycharm": {
     "name": "#%%\n"
    }
   }
  },
  {
   "cell_type": "markdown",
   "source": [
    "### Function declaration with parameters\n",
    "\n",
    "Expected: 1 function declaration with parameters and their types"
   ],
   "metadata": {
    "collapsed": false,
    "pycharm": {
     "name": "#%% md\n"
    }
   }
  },
  {
   "cell_type": "code",
   "execution_count": 9,
   "outputs": [
    {
     "name": "stdout",
     "output_type": "stream",
     "text": [
      "start\n",
      "  declaration\n",
      "    function_declaration\n",
      "      print\n",
      "      function_parameters\n",
      "        arg1\n",
      "        type\n",
      "          simple_user_type\tint\n",
      "        arg2\n",
      "        type\n",
      "          simple_user_type\tstr\n",
      "      statements_block\n",
      "        statement\n",
      "          jump_statement\n",
      "            return\n",
      "            disjunction\n",
      "              conjunction\n",
      "                equality\n",
      "                  comparison\n",
      "                    additive_expression\n",
      "                      multiplicative_expression\n",
      "                        prefix_unary_expression\n",
      "                          postfix_unary_expression\n",
      "                            primary_expression\tstr\n",
      "                            postfix_unary_suffix\n",
      "                              call_suffix\n",
      "                                function_call_arguments\n",
      "                                  disjunction\n",
      "                                    conjunction\n",
      "                                      equality\n",
      "                                        comparison\n",
      "                                          additive_expression\n",
      "                                            multiplicative_expression\n",
      "                                              prefix_unary_expression\n",
      "                                                postfix_unary_expression\n",
      "                                                  primary_expression\targ1\n",
      "                      +\n",
      "                      multiplicative_expression\n",
      "                        prefix_unary_expression\n",
      "                          postfix_unary_expression\n",
      "                            primary_expression\targ2\n",
      "\n"
     ]
    }
   ],
   "source": [
    "print_parsed(r\"\"\"\n",
    "print(arg1 int, arg2 str){\n",
    "    return str(arg1) + arg2\n",
    "}\"\"\"\n",
    ")"
   ],
   "metadata": {
    "collapsed": false,
    "pycharm": {
     "name": "#%%\n"
    }
   }
  },
  {
   "cell_type": "markdown",
   "source": [
    "### Function declaration with private modifier and type parametes"
   ],
   "metadata": {
    "collapsed": false
   }
  },
  {
   "cell_type": "code",
   "execution_count": 10,
   "outputs": [
    {
     "name": "stdout",
     "output_type": "stream",
     "text": [
      "start\n",
      "  declaration\n",
      "    function_declaration\n",
      "      print\n",
      "      type_arguments\n",
      "        type\n",
      "          simple_user_type\tT1\n",
      "        type\n",
      "          simple_user_type\tT2\n",
      "      function_parameters\n",
      "      private\n",
      "      statements_block\n",
      "        statement\n",
      "          jump_statement\n",
      "            return\n",
      "            disjunction\n",
      "              conjunction\n",
      "                equality\n",
      "                  comparison\n",
      "                    additive_expression\n",
      "                      multiplicative_expression\n",
      "                        prefix_unary_expression\n",
      "                          postfix_unary_expression\n",
      "                            primary_expression\n",
      "                              simple_literal\t\"private\"\n",
      "\n"
     ]
    }
   ],
   "source": [
    "print_parsed(r\"\"\"\n",
    "print<T1, T2>() private {\n",
    "    return \"private\"\n",
    "}\"\"\"\n",
    ")"
   ],
   "metadata": {
    "collapsed": false,
    "pycharm": {
     "name": "#%%\n"
    }
   }
  },
  {
   "cell_type": "markdown",
   "source": [
    "### Function declaration with *overridden* hint"
   ],
   "metadata": {
    "collapsed": false,
    "pycharm": {
     "name": "#%% md\n"
    }
   }
  },
  {
   "cell_type": "code",
   "execution_count": 11,
   "outputs": [
    {
     "name": "stdout",
     "output_type": "stream",
     "text": [
      "start\n",
      "  declaration\n",
      "    function_declaration\n",
      "      print\n",
      "      function_parameters\n",
      "      private\n",
      "      overridden\n",
      "      statements_block\n",
      "        statement\n",
      "          jump_statement\n",
      "            return\n",
      "            disjunction\n",
      "              conjunction\n",
      "                equality\n",
      "                  comparison\n",
      "                    additive_expression\n",
      "                      multiplicative_expression\n",
      "                        prefix_unary_expression\n",
      "                          postfix_unary_expression\n",
      "                            primary_expression\n",
      "                              simple_literal\t\"overridden\"\n",
      "\n"
     ]
    }
   ],
   "source": [
    "print_parsed(r\"\"\"\n",
    "print() private overridden {\n",
    "    return \"overridden\"\n",
    "}\"\"\"\n",
    ")"
   ],
   "metadata": {
    "collapsed": false,
    "pycharm": {
     "name": "#%%\n"
    }
   }
  },
  {
   "cell_type": "markdown",
   "source": [
    "### Function declaration with a return type provided"
   ],
   "metadata": {
    "collapsed": false,
    "pycharm": {
     "name": "#%% md\n"
    }
   }
  },
  {
   "cell_type": "code",
   "execution_count": 12,
   "outputs": [
    {
     "name": "stdout",
     "output_type": "stream",
     "text": [
      "start\n",
      "  declaration\n",
      "    function_declaration\n",
      "      print\n",
      "      function_parameters\n",
      "      private\n",
      "      ReturnType\n",
      "      statements_block\n",
      "        statement\n",
      "          jump_statement\n",
      "            return\n",
      "            disjunction\n",
      "              conjunction\n",
      "                equality\n",
      "                  comparison\n",
      "                    additive_expression\n",
      "                      multiplicative_expression\n",
      "                        prefix_unary_expression\n",
      "                          postfix_unary_expression\n",
      "                            primary_expression\tnew\n",
      "                            postfix_unary_suffix\n",
      "                              call_suffix\n",
      "                                function_call_arguments\n",
      "                                  disjunction\n",
      "                                    conjunction\n",
      "                                      equality\n",
      "                                        comparison\n",
      "                                          additive_expression\n",
      "                                            multiplicative_expression\n",
      "                                              prefix_unary_expression\n",
      "                                                postfix_unary_expression\n",
      "                                                  primary_expression\n",
      "                                                    simple_literal\t\"arg for the constructor\"\n",
      "\n"
     ]
    }
   ],
   "source": [
    "print_parsed(r\"\"\"\n",
    "print() private ReturnType {\n",
    "    return new(\"arg for the constructor\")\n",
    "}\"\"\")"
   ],
   "metadata": {
    "collapsed": false,
    "pycharm": {
     "name": "#%%\n"
    }
   }
  },
  {
   "cell_type": "markdown",
   "source": [
    "## Loops\n",
    "\n",
    "### Grammar\n",
    "\n",
    "```txt\n",
    "for_statement: label? \"for\" NAME \"in\" expression \"{\" statements_block \"}\"\n",
    "while_statement: label? \"while\" expression \"{\" statements_block \"}\"\n",
    "```\n",
    "\n",
    "### A for loop with a label and break statement\n",
    "\n",
    "Expected: proper recognition of a label and jump statement inside the for_statement"
   ],
   "metadata": {
    "collapsed": false,
    "pycharm": {
     "name": "#%% md\n"
    }
   }
  },
  {
   "cell_type": "code",
   "execution_count": 13,
   "outputs": [
    {
     "name": "stdout",
     "output_type": "stream",
     "text": [
      "start\n",
      "  statement\n",
      "    for_statement\n",
      "      label\tmyLabel\n",
      "      x\n",
      "      disjunction\n",
      "        conjunction\n",
      "          equality\n",
      "            comparison\n",
      "              additive_expression\n",
      "                multiplicative_expression\n",
      "                  prefix_unary_expression\n",
      "                    postfix_unary_expression\n",
      "                      primary_expression\tdb\n",
      "                      postfix_unary_suffix\n",
      "                        navigation_suffix\tvalues\n",
      "      statements_block\n",
      "        statement\n",
      "          disjunction\n",
      "            conjunction\n",
      "              equality\n",
      "                comparison\n",
      "                  additive_expression\n",
      "                    multiplicative_expression\n",
      "                      prefix_unary_expression\n",
      "                        postfix_unary_expression\n",
      "                          primary_expression\tprint\n",
      "                          postfix_unary_suffix\n",
      "                            call_suffix\n",
      "                              function_call_arguments\n",
      "                                disjunction\n",
      "                                  conjunction\n",
      "                                    equality\n",
      "                                      comparison\n",
      "                                        additive_expression\n",
      "                                          multiplicative_expression\n",
      "                                            prefix_unary_expression\n",
      "                                              postfix_unary_expression\n",
      "                                                primary_expression\tx\n",
      "        statement\n",
      "          jump_statement\n",
      "            break_at\n",
      "              break@\n",
      "              myLabel\n",
      "\n"
     ]
    }
   ],
   "source": [
    "print_parsed(r\"\"\"\n",
    "myLabel@\n",
    "for x in db.values {\n",
    "    print(x)\n",
    "    break@ myLabel\n",
    "}\"\"\")"
   ],
   "metadata": {
    "collapsed": false,
    "pycharm": {
     "name": "#%%\n"
    }
   }
  },
  {
   "cell_type": "markdown",
   "source": [
    "### A for loop with a nested loop"
   ],
   "metadata": {
    "collapsed": false,
    "pycharm": {
     "name": "#%% md\n"
    }
   }
  },
  {
   "cell_type": "code",
   "execution_count": 14,
   "outputs": [
    {
     "name": "stdout",
     "output_type": "stream",
     "text": [
      "start\n",
      "  statement\n",
      "    for_statement\n",
      "      x\n",
      "      disjunction\n",
      "        conjunction\n",
      "          equality\n",
      "            comparison\n",
      "              additive_expression\n",
      "                multiplicative_expression\n",
      "                  prefix_unary_expression\n",
      "                    postfix_unary_expression\n",
      "                      primary_expression\tdb\n",
      "                      postfix_unary_suffix\n",
      "                        navigation_suffix\tvalues\n",
      "      statements_block\n",
      "        statement\n",
      "          disjunction\n",
      "            conjunction\n",
      "              equality\n",
      "                comparison\n",
      "                  additive_expression\n",
      "                    multiplicative_expression\n",
      "                      prefix_unary_expression\n",
      "                        postfix_unary_expression\n",
      "                          primary_expression\tprint\n",
      "                          postfix_unary_suffix\n",
      "                            call_suffix\n",
      "                              function_call_arguments\n",
      "                                disjunction\n",
      "                                  conjunction\n",
      "                                    equality\n",
      "                                      comparison\n",
      "                                        additive_expression\n",
      "                                          multiplicative_expression\n",
      "                                            prefix_unary_expression\n",
      "                                              postfix_unary_expression\n",
      "                                                primary_expression\tx\n",
      "        statement\n",
      "          disjunction\n",
      "            conjunction\n",
      "              equality\n",
      "                comparison\n",
      "                  additive_expression\n",
      "                    multiplicative_expression\n",
      "                      prefix_unary_expression\n",
      "                        postfix_unary_expression\n",
      "                          primary_expression\tprint\n",
      "                          postfix_unary_suffix\n",
      "                            call_suffix\n",
      "                              function_call_arguments\n",
      "                                disjunction\n",
      "                                  conjunction\n",
      "                                    equality\n",
      "                                      comparison\n",
      "                                        additive_expression\n",
      "                                          multiplicative_expression\n",
      "                                            prefix_unary_expression\n",
      "                                              postfix_unary_expression\n",
      "                                                primary_expression\n",
      "                                                  simple_literal\t\"outer\"\n",
      "        statement\n",
      "          for_statement\n",
      "            y\n",
      "            disjunction\n",
      "              conjunction\n",
      "                equality\n",
      "                  comparison\n",
      "                    additive_expression\n",
      "                      multiplicative_expression\n",
      "                        prefix_unary_expression\n",
      "                          postfix_unary_expression\n",
      "                            primary_expression\tdb\n",
      "                            postfix_unary_suffix\n",
      "                              navigation_suffix\totherValues\n",
      "            statements_block\n",
      "              statement\n",
      "                disjunction\n",
      "                  conjunction\n",
      "                    equality\n",
      "                      comparison\n",
      "                        additive_expression\n",
      "                          multiplicative_expression\n",
      "                            prefix_unary_expression\n",
      "                              postfix_unary_expression\n",
      "                                primary_expression\tprint\n",
      "                                postfix_unary_suffix\n",
      "                                  call_suffix\n",
      "                                    function_call_arguments\n",
      "                                      disjunction\n",
      "                                        conjunction\n",
      "                                          equality\n",
      "                                            comparison\n",
      "                                              additive_expression\n",
      "                                                multiplicative_expression\n",
      "                                                  prefix_unary_expression\n",
      "                                                    postfix_unary_expression\n",
      "                                                      primary_expression\ty\n",
      "              statement\n",
      "                disjunction\n",
      "                  conjunction\n",
      "                    equality\n",
      "                      comparison\n",
      "                        additive_expression\n",
      "                          multiplicative_expression\n",
      "                            prefix_unary_expression\n",
      "                              postfix_unary_expression\n",
      "                                primary_expression\tprint\n",
      "                                postfix_unary_suffix\n",
      "                                  call_suffix\n",
      "                                    function_call_arguments\n",
      "                                      disjunction\n",
      "                                        conjunction\n",
      "                                          equality\n",
      "                                            comparison\n",
      "                                              additive_expression\n",
      "                                                multiplicative_expression\n",
      "                                                  prefix_unary_expression\n",
      "                                                    postfix_unary_expression\n",
      "                                                      primary_expression\n",
      "                                                        simple_literal\t\"inner\"\n",
      "\n"
     ]
    }
   ],
   "source": [
    "print_parsed(r\"\"\"\n",
    "for x in db.values {\n",
    "    print(x)\n",
    "    print(\"outer\")\n",
    "    for y in db.otherValues {\n",
    "        print(y)\n",
    "        print(\"inner\")\n",
    "    }\n",
    "}\"\"\")"
   ],
   "metadata": {
    "collapsed": false,
    "pycharm": {
     "name": "#%%\n"
    }
   }
  },
  {
   "cell_type": "markdown",
   "source": [
    "### A for loop with \"in\" omitted"
   ],
   "metadata": {
    "collapsed": false,
    "pycharm": {
     "name": "#%% md\n"
    }
   }
  },
  {
   "cell_type": "code",
   "execution_count": 15,
   "outputs": [
    {
     "name": "stdout",
     "output_type": "stream",
     "text": [
      "OK, exception was thrown\n",
      "No terminal defined for 'd' at line 2 col 7\n",
      "\n",
      "for x db.values {\n",
      "      ^\n",
      "\n",
      "Expecting: {'IN', 'LESSTHAN', 'DOT', 'VAL', 'EQUAL', 'VAR'}\n",
      "\n"
     ]
    }
   ],
   "source": [
    "try:\n",
    "    print_parsed(r\"\"\"\n",
    "for x db.values {\n",
    "    print(x)\n",
    "}\"\"\")\n",
    "except Exception as ex:\n",
    "    print(\"OK, exception was raised\")\n",
    "    print(ex)\n",
    "else:\n",
    "    raise Exception(\"Exception had must be raised here\")"
   ],
   "metadata": {
    "collapsed": false,
    "pycharm": {
     "name": "#%%\n"
    }
   }
  },
  {
   "cell_type": "markdown",
   "source": [
    "### Test while statement\n",
    "\n",
    "Expected: proper recognition of if expression in the while statement"
   ],
   "metadata": {
    "collapsed": false,
    "pycharm": {
     "name": "#%% md\n"
    }
   }
  },
  {
   "cell_type": "code",
   "execution_count": 16,
   "outputs": [
    {
     "name": "stdout",
     "output_type": "stream",
     "text": [
      "start\n",
      "  statement\n",
      "    while_statement\n",
      "      disjunction\n",
      "        conjunction\n",
      "          equality\n",
      "            comparison\n",
      "              additive_expression\n",
      "                multiplicative_expression\n",
      "                  prefix_unary_expression\n",
      "                    postfix_unary_expression\n",
      "                      primary_expression\n",
      "                        if_expression\n",
      "                          disjunction\n",
      "                            conjunction\n",
      "                              equality\n",
      "                                comparison\n",
      "                                  additive_expression\n",
      "                                    multiplicative_expression\n",
      "                                      prefix_unary_expression\n",
      "                                        postfix_unary_expression\n",
      "                                          primary_expression\tx\n",
      "                                  <\n",
      "                                  additive_expression\n",
      "                                    multiplicative_expression\n",
      "                                      prefix_unary_expression\n",
      "                                        postfix_unary_expression\n",
      "                                          primary_expression\n",
      "                                            simple_literal\t5\n",
      "                          statements_block\n",
      "                            statement\n",
      "                              disjunction\n",
      "                                conjunction\n",
      "                                  equality\n",
      "                                    comparison\n",
      "                                      additive_expression\n",
      "                                        multiplicative_expression\n",
      "                                          prefix_unary_expression\n",
      "                                            postfix_unary_expression\n",
      "                                              primary_expression\tcloseToZero\n",
      "                                              postfix_unary_suffix\n",
      "                                                call_suffix\n",
      "                                                  function_call_arguments\n",
      "                                                    disjunction\n",
      "                                                      conjunction\n",
      "                                                        equality\n",
      "                                                          comparison\n",
      "                                                            additive_expression\n",
      "                                                              multiplicative_expression\n",
      "                                                                prefix_unary_expression\n",
      "                                                                  postfix_unary_expression\n",
      "                                                                    primary_expression\tx\n",
      "                          else\n",
      "                          statements_block\n",
      "                            statement\n",
      "                              disjunction\n",
      "                                conjunction\n",
      "                                  equality\n",
      "                                    comparison\n",
      "                                      additive_expression\n",
      "                                        multiplicative_expression\n",
      "                                          prefix_unary_expression\n",
      "                                            postfix_unary_expression\n",
      "                                              primary_expression\ttrue\n",
      "      statements_block\n",
      "        statement\n",
      "          assignment\n",
      "            assignable_expression\n",
      "              prefix_unary_expression\n",
      "                postfix_unary_expression\n",
      "                  primary_expression\tx\n",
      "            -=\n",
      "            disjunction\n",
      "              conjunction\n",
      "                equality\n",
      "                  comparison\n",
      "                    additive_expression\n",
      "                      multiplicative_expression\n",
      "                        prefix_unary_expression\n",
      "                          postfix_unary_expression\n",
      "                            primary_expression\n",
      "                              simple_literal\t1\n",
      "\n"
     ]
    }
   ],
   "source": [
    "print_parsed(r\"\"\"\n",
    "while if x < 5 {closeToZero(x)} else {true} {\n",
    "    x -= 1\n",
    "}\"\"\"\n",
    ")"
   ],
   "metadata": {
    "collapsed": false,
    "pycharm": {
     "name": "#%%\n"
    }
   }
  },
  {
   "cell_type": "markdown",
   "source": [
    "## Operators precedence\n",
    "\n",
    "| Precedence | Title          | Symbols               |\n",
    "|------------|----------------|-----------------------|\n",
    "| Highest    | Postfix        | .                     |\n",
    "| ^          | Prefix         | -, +, !               |\n",
    "| \\|         | Multiplicative | *, /, %               |\n",
    "| \\|         | Additive       | +, -                  |\n",
    "| \\|         | Comparison     | <, >, <=, >=          |\n",
    "| \\|         | Equality       | ==, !=                |\n",
    "| \\|         | Conjunction    | &&                    |\n",
    "| ^          | Disjunction    | \\|\\|                  |\n",
    "| Lowest     | Assignment     | =, +=, -=, *=, /=, %= |\n",
    "\n",
    "### Postfix and prefix and call suffix\n",
    "\n",
    "Expected: prefixExpr -> postfixExpr with 2 suffixes (navigation and call)"
   ],
   "metadata": {
    "collapsed": false,
    "pycharm": {
     "name": "#%% md\n"
    }
   }
  },
  {
   "cell_type": "code",
   "execution_count": 17,
   "outputs": [
    {
     "name": "stdout",
     "output_type": "stream",
     "text": [
      "start\n",
      "  statement\n",
      "    disjunction\n",
      "      conjunction\n",
      "        equality\n",
      "          comparison\n",
      "            additive_expression\n",
      "              multiplicative_expression\n",
      "                prefix_unary_expression\n",
      "                  +\n",
      "                  postfix_unary_expression\n",
      "                    primary_expression\tperson\n",
      "                    postfix_unary_suffix\n",
      "                      navigation_suffix\tsayHello\n",
      "                    postfix_unary_suffix\n",
      "                      call_suffix\n",
      "                        function_call_arguments\n",
      "\n"
     ]
    }
   ],
   "source": [
    "print_parsed(r\"\"\"+person.sayHello()\"\"\")"
   ],
   "metadata": {
    "collapsed": false,
    "pycharm": {
     "name": "#%%\n"
    }
   }
  },
  {
   "cell_type": "markdown",
   "source": [
    "### Postfix and equality and suffix\n",
    "\n",
    "Expected: comparison first then id with suffixes"
   ],
   "metadata": {
    "collapsed": false
   }
  },
  {
   "cell_type": "code",
   "execution_count": 18,
   "outputs": [
    {
     "name": "stdout",
     "output_type": "stream",
     "text": [
      "start\n",
      "  statement\n",
      "    disjunction\n",
      "      conjunction\n",
      "        equality\n",
      "          comparison\n",
      "            additive_expression\n",
      "              multiplicative_expression\n",
      "                prefix_unary_expression\n",
      "                  postfix_unary_expression\n",
      "                    primary_expression\n",
      "                      simple_literal\t\"OK\"\n",
      "          ==\n",
      "          comparison\n",
      "            additive_expression\n",
      "              multiplicative_expression\n",
      "                prefix_unary_expression\n",
      "                  postfix_unary_expression\n",
      "                    primary_expression\n",
      "                      identifier\n",
      "                        person\n",
      "                        mood\n",
      "                    postfix_unary_suffix\n",
      "                      call_suffix\n",
      "                        function_call_arguments\n",
      "                    postfix_unary_suffix\n",
      "                      navigation_suffix\tasString\n",
      "                    postfix_unary_suffix\n",
      "                      call_suffix\n",
      "                        function_call_arguments\n",
      "\n"
     ]
    }
   ],
   "source": [
    "print_parsed(r\"\"\"\"OK\" == person.mood().asString()\"\"\")"
   ],
   "metadata": {
    "collapsed": false,
    "pycharm": {
     "name": "#%%\n"
    }
   }
  },
  {
   "cell_type": "markdown",
   "source": [
    "### Conjunction and disjunction\n",
    "\n",
    "Expected: disjunction -> 2 conjunctions"
   ],
   "metadata": {
    "collapsed": false
   }
  },
  {
   "cell_type": "code",
   "execution_count": 19,
   "outputs": [
    {
     "name": "stdout",
     "output_type": "stream",
     "text": [
      "start\n",
      "  statement\n",
      "    disjunction\n",
      "      conjunction\n",
      "        equality\n",
      "          comparison\n",
      "            additive_expression\n",
      "              multiplicative_expression\n",
      "                prefix_unary_expression\n",
      "                  postfix_unary_expression\n",
      "                    primary_expression\tprocrastinateToday\n",
      "                    postfix_unary_suffix\n",
      "                      call_suffix\n",
      "                        function_call_arguments\n",
      "        equality\n",
      "          comparison\n",
      "            additive_expression\n",
      "              multiplicative_expression\n",
      "                prefix_unary_expression\n",
      "                  postfix_unary_expression\n",
      "                    primary_expression\twatchMovies\n",
      "                    postfix_unary_suffix\n",
      "                      call_suffix\n",
      "                        function_call_arguments\n",
      "      conjunction\n",
      "        equality\n",
      "          comparison\n",
      "            additive_expression\n",
      "              multiplicative_expression\n",
      "                prefix_unary_expression\n",
      "                  postfix_unary_expression\n",
      "                    primary_expression\tprocrastinateTomorrow\n",
      "                    postfix_unary_suffix\n",
      "                      call_suffix\n",
      "                        function_call_arguments\n",
      "        equality\n",
      "          comparison\n",
      "            additive_expression\n",
      "              multiplicative_expression\n",
      "                prefix_unary_expression\n",
      "                  postfix_unary_expression\n",
      "                    primary_expression\tworkHard\n",
      "                    postfix_unary_suffix\n",
      "                      call_suffix\n",
      "                        function_call_arguments\n",
      "\n"
     ]
    }
   ],
   "source": [
    "print_parsed(r\"\"\"\n",
    "procrastinateToday() && watchMovies() ||\n",
    "procrastinateTomorrow() && workHard()\n",
    "\"\"\")"
   ],
   "metadata": {
    "collapsed": false,
    "pycharm": {
     "name": "#%%\n"
    }
   }
  },
  {
   "cell_type": "markdown",
   "source": [
    "### Assignment and comparison and disjunction and parentheses\n",
    "\n",
    "Expected: assignment -> conjunction -> disjunction"
   ],
   "metadata": {
    "collapsed": false
   }
  },
  {
   "cell_type": "code",
   "execution_count": 20,
   "outputs": [
    {
     "name": "stdout",
     "output_type": "stream",
     "text": [
      "start\n",
      "  statement\n",
      "    assignment\n",
      "      directly_assignable_expression\n",
      "        variable_declaration\n",
      "          x\n",
      "          type\n",
      "            simple_user_type\tint\n",
      "          val\n",
      "      disjunction\n",
      "        conjunction\n",
      "          equality\n",
      "            comparison\n",
      "              additive_expression\n",
      "                multiplicative_expression\n",
      "                  prefix_unary_expression\n",
      "                    postfix_unary_expression\n",
      "                      primary_expression\tleftTasksNumber\n",
      "              <\n",
      "              additive_expression\n",
      "                multiplicative_expression\n",
      "                  prefix_unary_expression\n",
      "                    postfix_unary_expression\n",
      "                      primary_expression\n",
      "                        simple_literal\t5\n",
      "          equality\n",
      "            comparison\n",
      "              additive_expression\n",
      "                multiplicative_expression\n",
      "                  prefix_unary_expression\n",
      "                    postfix_unary_expression\n",
      "                      primary_expression\n",
      "                        disjunction\n",
      "                          conjunction\n",
      "                            equality\n",
      "                              comparison\n",
      "                                additive_expression\n",
      "                                  multiplicative_expression\n",
      "                                    prefix_unary_expression\n",
      "                                      postfix_unary_expression\n",
      "                                        primary_expression\tshouldWorkToday\n",
      "                                        postfix_unary_suffix\n",
      "                                          call_suffix\n",
      "                                            function_call_arguments\n",
      "                          conjunction\n",
      "                            equality\n",
      "                              comparison\n",
      "                                additive_expression\n",
      "                                  multiplicative_expression\n",
      "                                    prefix_unary_expression\n",
      "                                      postfix_unary_expression\n",
      "                                        primary_expression\n",
      "                                          simple_literal\t\"Work tomorrow\"\n",
      "\n"
     ]
    }
   ],
   "source": [
    "print_parsed(r\"\"\"\n",
    "x int val = leftTasksNumber < 5 && (shouldWorkToday() || \"Work tomorrow\")\n",
    "\"\"\")"
   ],
   "metadata": {
    "collapsed": false,
    "pycharm": {
     "name": "#%%\n"
    }
   }
  },
  {
   "cell_type": "markdown",
   "source": [
    "### Prefix and additive\n",
    "\n",
    "Expected: proper recognition of prefix operators\n",
    "\n",
    "1. assignment -> additive expression and 2 prefix operators\n",
    "2. assignment -> 1 prefix operator"
   ],
   "metadata": {
    "collapsed": false
   }
  },
  {
   "cell_type": "code",
   "execution_count": 33,
   "outputs": [
    {
     "name": "stdout",
     "output_type": "stream",
     "text": [
      "start\n",
      "  statement\n",
      "    assignment\n",
      "      directly_assignable_expression\n",
      "        variable_declaration\n",
      "          x\n",
      "          type\n",
      "            simple_user_type\tbool\n",
      "          val\n",
      "      disjunction\n",
      "        conjunction\n",
      "          equality\n",
      "            comparison\n",
      "              additive_expression\n",
      "                multiplicative_expression\n",
      "                  prefix_unary_expression\n",
      "                    postfix_unary_expression\n",
      "                      primary_expression\ta\n",
      "                +\n",
      "                multiplicative_expression\n",
      "                  prefix_unary_expression\n",
      "                    -\n",
      "                    !\n",
      "                    postfix_unary_expression\n",
      "                      primary_expression\tb\n",
      "  statement\n",
      "    assignment\n",
      "      assignable_expression\n",
      "        prefix_unary_expression\n",
      "          postfix_unary_expression\n",
      "            primary_expression\tc\n",
      "      +=\n",
      "      disjunction\n",
      "        conjunction\n",
      "          equality\n",
      "            comparison\n",
      "              additive_expression\n",
      "                multiplicative_expression\n",
      "                  prefix_unary_expression\n",
      "                    !\n",
      "                    postfix_unary_expression\n",
      "                      primary_expression\td\n",
      "\n"
     ]
    }
   ],
   "source": [
    "print_parsed(r\"\"\"\n",
    "x bool val = a +-!b\n",
    "c += !d\n",
    "\"\"\")"
   ],
   "metadata": {
    "collapsed": false,
    "pycharm": {
     "name": "#%%\n"
    }
   }
  },
  {
   "cell_type": "markdown",
   "source": [
    "## Interfaces\n",
    "\n",
    "### Grammar\n",
    "\n",
    "```txt\n",
    "interface_declaration: NAME \"interface\" type_arguments? parent_interfaces \"{\" interface_body \"}\"\n",
    "\n",
    "parent_interfaces: (NAME (\",\" NAME)*)?\n",
    "\n",
    "interface_body: interface_function_declaration+\n",
    "\n",
    "interface_function_declaration: (function_declaration | function_declaration_without_body)\n",
    "\n",
    "function_declaration_without_body: NAME type_arguments? function_parameters FUNCTION_RETURN_TYPE\n",
    "```\n",
    "\n",
    "### Interface only with function declarations without body\n",
    "\n",
    "Expected a Male interface with 2 type parameters, 3 parent interfaces and 3 function_declarations without a body"
   ],
   "metadata": {
    "collapsed": false
   }
  },
  {
   "cell_type": "code",
   "execution_count": 34,
   "outputs": [
    {
     "name": "stdout",
     "output_type": "stream",
     "text": [
      "start\n",
      "  declaration\n",
      "    interface_declaration\n",
      "      Male\n",
      "      type_arguments\n",
      "        type\n",
      "          simple_user_type\tT1\n",
      "        type\n",
      "          simple_user_type\tT2\n",
      "      interface_parents\n",
      "        Human\n",
      "        Printable\n",
      "        Hashable\n",
      "      interface_body\n",
      "        interface_function_declaration\n",
      "          function_declaration_without_body\n",
      "            hashCode\n",
      "            function_parameters\n",
      "            int\n",
      "        interface_function_declaration\n",
      "          function_declaration_without_body\n",
      "            printable\n",
      "            type_arguments\n",
      "              type\n",
      "                simple_user_type\tT1\n",
      "            function_parameters\n",
      "            void\n",
      "        interface_function_declaration\n",
      "          function_declaration_without_body\n",
      "            shouldSleepAtTime\n",
      "            function_parameters\n",
      "              time\n",
      "              type\n",
      "                simple_user_type\tTime\n",
      "            bool\n",
      "\n"
     ]
    }
   ],
   "source": [
    "print_parsed(r\"\"\"\n",
    "Male interface <T1, T2> Human, Printable, Hashable {\n",
    "    hashCode() int\n",
    "    printable<T1>() void\n",
    "    shouldSleepAtTime(time Time) bool\n",
    "}\n",
    "\"\"\"\n",
    ")"
   ],
   "metadata": {
    "collapsed": false,
    "pycharm": {
     "name": "#%%\n"
    }
   }
  },
  {
   "cell_type": "markdown",
   "source": [
    "### Test if it will be ok to make multiple declarations of functions without body without a new line"
   ],
   "metadata": {
    "collapsed": false
   }
  },
  {
   "cell_type": "code",
   "execution_count": 35,
   "outputs": [
    {
     "name": "stdout",
     "output_type": "stream",
     "text": [
      "start\n",
      "  declaration\n",
      "    interface_declaration\n",
      "      Male\n",
      "      type_arguments\n",
      "        type\n",
      "          simple_user_type\tT1\n",
      "        type\n",
      "          simple_user_type\tT2\n",
      "      interface_parents\n",
      "        Human\n",
      "        Printable\n",
      "        Hashable\n",
      "      interface_body\n",
      "        interface_function_declaration\n",
      "          function_declaration_without_body\n",
      "            hashCode\n",
      "            function_parameters\n",
      "            int\n",
      "        interface_function_declaration\n",
      "          function_declaration_without_body\n",
      "            printable\n",
      "            type_arguments\n",
      "              type\n",
      "                simple_user_type\tT1\n",
      "            function_parameters\n",
      "            void\n",
      "        interface_function_declaration\n",
      "          function_declaration_without_body\n",
      "            shouldSleepAtTime\n",
      "            function_parameters\n",
      "              time\n",
      "              type\n",
      "                simple_user_type\tTime\n",
      "            bool\n",
      "\n"
     ]
    }
   ],
   "source": [
    "print_parsed(r\"\"\"\n",
    "Male interface <T1, T2> Human, Printable, Hashable {\n",
    "    hashCode() int printable<T1>() void shouldSleepAtTime(time Time) bool\n",
    "}\n",
    "\"\"\"\n",
    ")"
   ],
   "metadata": {
    "collapsed": false,
    "pycharm": {
     "name": "#%%\n"
    }
   }
  },
  {
   "cell_type": "markdown",
   "source": [
    "### Test if it will be ok to make multiple declarations of functions without AND WITH body without a new line\n",
    "\n",
    "Expected: 5 correct function declarations"
   ],
   "metadata": {
    "collapsed": false
   }
  },
  {
   "cell_type": "code",
   "execution_count": 37,
   "outputs": [
    {
     "ename": "UnexpectedCharacters",
     "evalue": "No terminal defined for '<' at line 3 col 25\n\n    hashCode() printable<T1>() void mood() str {\n                        ^\n\nExpecting: {'NAME', 'RBRACE', 'LBRACE'}\n",
     "output_type": "error",
     "traceback": [
      "\u001B[1;31m---------------------------------------------------------------------------\u001B[0m",
      "\u001B[1;31mUnexpectedCharacters\u001B[0m                      Traceback (most recent call last)",
      "\u001B[1;32m<ipython-input-37-a68f75586932>\u001B[0m in \u001B[0;36m<module>\u001B[1;34m\u001B[0m\n\u001B[1;32m----> 1\u001B[1;33m print_parsed(r\"\"\"\n\u001B[0m\u001B[0;32m      2\u001B[0m Male interface <T1, T2> Human, Printable, Hashable {\n\u001B[0;32m      3\u001B[0m     hashCode() printable<T1>() void mood() str {\n\u001B[0;32m      4\u001B[0m     \u001B[1;32mreturn\u001B[0m \u001B[1;34m\"OK\"\u001B[0m\u001B[1;33m\u001B[0m\u001B[1;33m\u001B[0m\u001B[0m\n\u001B[0;32m      5\u001B[0m     } shouldSleepAtTime(time Time) bool wantsToEat() bool {return true}\n",
      "\u001B[1;32m<ipython-input-28-4375da38c703>\u001B[0m in \u001B[0;36mprint_parsed\u001B[1;34m(text_to_parse)\u001B[0m\n\u001B[0;32m      4\u001B[0m \u001B[1;33m\u001B[0m\u001B[0m\n\u001B[0;32m      5\u001B[0m \u001B[1;32mdef\u001B[0m \u001B[0mprint_parsed\u001B[0m\u001B[1;33m(\u001B[0m\u001B[0mtext_to_parse\u001B[0m\u001B[1;33m:\u001B[0m \u001B[0mstr\u001B[0m\u001B[1;33m)\u001B[0m\u001B[1;33m:\u001B[0m\u001B[1;33m\u001B[0m\u001B[1;33m\u001B[0m\u001B[0m\n\u001B[1;32m----> 6\u001B[1;33m     \u001B[0mprint\u001B[0m\u001B[1;33m(\u001B[0m\u001B[0mlark\u001B[0m\u001B[1;33m.\u001B[0m\u001B[0mparse\u001B[0m\u001B[1;33m(\u001B[0m\u001B[0mtext_to_parse\u001B[0m\u001B[1;33m)\u001B[0m\u001B[1;33m.\u001B[0m\u001B[0mpretty\u001B[0m\u001B[1;33m(\u001B[0m\u001B[1;33m)\u001B[0m\u001B[1;33m)\u001B[0m\u001B[1;33m\u001B[0m\u001B[1;33m\u001B[0m\u001B[0m\n\u001B[0m\u001B[0;32m      7\u001B[0m \u001B[1;33m\u001B[0m\u001B[0m\n",
      "\u001B[1;32mc:\\users\\artsiom\\appdata\\local\\programs\\python\\python39\\lib\\site-packages\\lark\\lark.py\u001B[0m in \u001B[0;36mparse\u001B[1;34m(self, text, start, on_error)\u001B[0m\n\u001B[0;32m    493\u001B[0m \u001B[1;33m\u001B[0m\u001B[0m\n\u001B[0;32m    494\u001B[0m         \u001B[1;32mtry\u001B[0m\u001B[1;33m:\u001B[0m\u001B[1;33m\u001B[0m\u001B[1;33m\u001B[0m\u001B[0m\n\u001B[1;32m--> 495\u001B[1;33m             \u001B[1;32mreturn\u001B[0m \u001B[0mself\u001B[0m\u001B[1;33m.\u001B[0m\u001B[0mparser\u001B[0m\u001B[1;33m.\u001B[0m\u001B[0mparse\u001B[0m\u001B[1;33m(\u001B[0m\u001B[0mtext\u001B[0m\u001B[1;33m,\u001B[0m \u001B[0mstart\u001B[0m\u001B[1;33m=\u001B[0m\u001B[0mstart\u001B[0m\u001B[1;33m)\u001B[0m\u001B[1;33m\u001B[0m\u001B[1;33m\u001B[0m\u001B[0m\n\u001B[0m\u001B[0;32m    496\u001B[0m         \u001B[1;32mexcept\u001B[0m \u001B[0mUnexpectedInput\u001B[0m \u001B[1;32mas\u001B[0m \u001B[0me\u001B[0m\u001B[1;33m:\u001B[0m\u001B[1;33m\u001B[0m\u001B[1;33m\u001B[0m\u001B[0m\n\u001B[0;32m    497\u001B[0m             \u001B[1;32mif\u001B[0m \u001B[0mon_error\u001B[0m \u001B[1;32mis\u001B[0m \u001B[1;32mNone\u001B[0m\u001B[1;33m:\u001B[0m\u001B[1;33m\u001B[0m\u001B[1;33m\u001B[0m\u001B[0m\n",
      "\u001B[1;32mc:\\users\\artsiom\\appdata\\local\\programs\\python\\python39\\lib\\site-packages\\lark\\parser_frontends.py\u001B[0m in \u001B[0;36mparse\u001B[1;34m(self, text, start)\u001B[0m\n\u001B[0;32m    221\u001B[0m \u001B[1;33m\u001B[0m\u001B[0m\n\u001B[0;32m    222\u001B[0m     \u001B[1;32mdef\u001B[0m \u001B[0mparse\u001B[0m\u001B[1;33m(\u001B[0m\u001B[0mself\u001B[0m\u001B[1;33m,\u001B[0m \u001B[0mtext\u001B[0m\u001B[1;33m,\u001B[0m \u001B[0mstart\u001B[0m\u001B[1;33m)\u001B[0m\u001B[1;33m:\u001B[0m\u001B[1;33m\u001B[0m\u001B[1;33m\u001B[0m\u001B[0m\n\u001B[1;32m--> 223\u001B[1;33m         \u001B[1;32mreturn\u001B[0m \u001B[0mself\u001B[0m\u001B[1;33m.\u001B[0m\u001B[0m_parse\u001B[0m\u001B[1;33m(\u001B[0m\u001B[0mstart\u001B[0m\u001B[1;33m,\u001B[0m \u001B[0mtext\u001B[0m\u001B[1;33m)\u001B[0m\u001B[1;33m\u001B[0m\u001B[1;33m\u001B[0m\u001B[0m\n\u001B[0m\u001B[0;32m    224\u001B[0m \u001B[1;33m\u001B[0m\u001B[0m\n\u001B[0;32m    225\u001B[0m \u001B[1;32mclass\u001B[0m \u001B[0mXEarley_CompleteLex\u001B[0m\u001B[1;33m(\u001B[0m\u001B[0mXEarley\u001B[0m\u001B[1;33m)\u001B[0m\u001B[1;33m:\u001B[0m\u001B[1;33m\u001B[0m\u001B[1;33m\u001B[0m\u001B[0m\n",
      "\u001B[1;32mc:\\users\\artsiom\\appdata\\local\\programs\\python\\python39\\lib\\site-packages\\lark\\parser_frontends.py\u001B[0m in \u001B[0;36m_parse\u001B[1;34m(self, start, input, *args)\u001B[0m\n\u001B[0;32m     70\u001B[0m                 \u001B[1;32mraise\u001B[0m \u001B[0mValueError\u001B[0m\u001B[1;33m(\u001B[0m\u001B[1;34m\"Lark initialized with more than 1 possible start rule. Must specify which start rule to parse\"\u001B[0m\u001B[1;33m,\u001B[0m \u001B[0mstart\u001B[0m\u001B[1;33m)\u001B[0m\u001B[1;33m\u001B[0m\u001B[1;33m\u001B[0m\u001B[0m\n\u001B[0;32m     71\u001B[0m             \u001B[0mstart\u001B[0m \u001B[1;33m,\u001B[0m\u001B[1;33m=\u001B[0m \u001B[0mstart\u001B[0m\u001B[1;33m\u001B[0m\u001B[1;33m\u001B[0m\u001B[0m\n\u001B[1;32m---> 72\u001B[1;33m         \u001B[1;32mreturn\u001B[0m \u001B[0mself\u001B[0m\u001B[1;33m.\u001B[0m\u001B[0mparser\u001B[0m\u001B[1;33m.\u001B[0m\u001B[0mparse\u001B[0m\u001B[1;33m(\u001B[0m\u001B[0minput\u001B[0m\u001B[1;33m,\u001B[0m \u001B[0mstart\u001B[0m\u001B[1;33m,\u001B[0m \u001B[1;33m*\u001B[0m\u001B[0margs\u001B[0m\u001B[1;33m)\u001B[0m\u001B[1;33m\u001B[0m\u001B[1;33m\u001B[0m\u001B[0m\n\u001B[0m\u001B[0;32m     73\u001B[0m \u001B[1;33m\u001B[0m\u001B[0m\n\u001B[0;32m     74\u001B[0m \u001B[1;33m\u001B[0m\u001B[0m\n",
      "\u001B[1;32mc:\\users\\artsiom\\appdata\\local\\programs\\python\\python39\\lib\\site-packages\\lark\\parsers\\earley.py\u001B[0m in \u001B[0;36mparse\u001B[1;34m(self, stream, start)\u001B[0m\n\u001B[0;32m    292\u001B[0m                 \u001B[0mcolumns\u001B[0m\u001B[1;33m[\u001B[0m\u001B[1;36m0\u001B[0m\u001B[1;33m]\u001B[0m\u001B[1;33m.\u001B[0m\u001B[0madd\u001B[0m\u001B[1;33m(\u001B[0m\u001B[0mitem\u001B[0m\u001B[1;33m)\u001B[0m\u001B[1;33m\u001B[0m\u001B[1;33m\u001B[0m\u001B[0m\n\u001B[0;32m    293\u001B[0m \u001B[1;33m\u001B[0m\u001B[0m\n\u001B[1;32m--> 294\u001B[1;33m         \u001B[0mto_scan\u001B[0m \u001B[1;33m=\u001B[0m \u001B[0mself\u001B[0m\u001B[1;33m.\u001B[0m\u001B[0m_parse\u001B[0m\u001B[1;33m(\u001B[0m\u001B[0mstream\u001B[0m\u001B[1;33m,\u001B[0m \u001B[0mcolumns\u001B[0m\u001B[1;33m,\u001B[0m \u001B[0mto_scan\u001B[0m\u001B[1;33m,\u001B[0m \u001B[0mstart_symbol\u001B[0m\u001B[1;33m)\u001B[0m\u001B[1;33m\u001B[0m\u001B[1;33m\u001B[0m\u001B[0m\n\u001B[0m\u001B[0;32m    295\u001B[0m \u001B[1;33m\u001B[0m\u001B[0m\n\u001B[0;32m    296\u001B[0m         \u001B[1;31m# If the parse was successful, the start\u001B[0m\u001B[1;33m\u001B[0m\u001B[1;33m\u001B[0m\u001B[1;33m\u001B[0m\u001B[0m\n",
      "\u001B[1;32mc:\\users\\artsiom\\appdata\\local\\programs\\python\\python39\\lib\\site-packages\\lark\\parsers\\xearley.py\u001B[0m in \u001B[0;36m_parse\u001B[1;34m(self, stream, columns, to_scan, start_symbol)\u001B[0m\n\u001B[0;32m    137\u001B[0m             \u001B[0mself\u001B[0m\u001B[1;33m.\u001B[0m\u001B[0mpredict_and_complete\u001B[0m\u001B[1;33m(\u001B[0m\u001B[0mi\u001B[0m\u001B[1;33m,\u001B[0m \u001B[0mto_scan\u001B[0m\u001B[1;33m,\u001B[0m \u001B[0mcolumns\u001B[0m\u001B[1;33m,\u001B[0m \u001B[0mtransitives\u001B[0m\u001B[1;33m)\u001B[0m\u001B[1;33m\u001B[0m\u001B[1;33m\u001B[0m\u001B[0m\n\u001B[0;32m    138\u001B[0m \u001B[1;33m\u001B[0m\u001B[0m\n\u001B[1;32m--> 139\u001B[1;33m             \u001B[0mto_scan\u001B[0m \u001B[1;33m=\u001B[0m \u001B[0mscan\u001B[0m\u001B[1;33m(\u001B[0m\u001B[0mi\u001B[0m\u001B[1;33m,\u001B[0m \u001B[0mto_scan\u001B[0m\u001B[1;33m)\u001B[0m\u001B[1;33m\u001B[0m\u001B[1;33m\u001B[0m\u001B[0m\n\u001B[0m\u001B[0;32m    140\u001B[0m \u001B[1;33m\u001B[0m\u001B[0m\n\u001B[0;32m    141\u001B[0m             \u001B[1;32mif\u001B[0m \u001B[0mtoken\u001B[0m \u001B[1;33m==\u001B[0m \u001B[1;34m'\\n'\u001B[0m\u001B[1;33m:\u001B[0m\u001B[1;33m\u001B[0m\u001B[1;33m\u001B[0m\u001B[0m\n",
      "\u001B[1;32mc:\\users\\artsiom\\appdata\\local\\programs\\python\\python39\\lib\\site-packages\\lark\\parsers\\xearley.py\u001B[0m in \u001B[0;36mscan\u001B[1;34m(i, to_scan)\u001B[0m\n\u001B[0;32m    114\u001B[0m \u001B[1;33m\u001B[0m\u001B[0m\n\u001B[0;32m    115\u001B[0m             \u001B[1;32mif\u001B[0m \u001B[1;32mnot\u001B[0m \u001B[0mnext_set\u001B[0m \u001B[1;32mand\u001B[0m \u001B[1;32mnot\u001B[0m \u001B[0mdelayed_matches\u001B[0m \u001B[1;32mand\u001B[0m \u001B[1;32mnot\u001B[0m \u001B[0mnext_to_scan\u001B[0m\u001B[1;33m:\u001B[0m\u001B[1;33m\u001B[0m\u001B[1;33m\u001B[0m\u001B[0m\n\u001B[1;32m--> 116\u001B[1;33m                 \u001B[1;32mraise\u001B[0m \u001B[0mUnexpectedCharacters\u001B[0m\u001B[1;33m(\u001B[0m\u001B[0mstream\u001B[0m\u001B[1;33m,\u001B[0m \u001B[0mi\u001B[0m\u001B[1;33m,\u001B[0m \u001B[0mtext_line\u001B[0m\u001B[1;33m,\u001B[0m \u001B[0mtext_column\u001B[0m\u001B[1;33m,\u001B[0m \u001B[1;33m{\u001B[0m\u001B[0mitem\u001B[0m\u001B[1;33m.\u001B[0m\u001B[0mexpect\u001B[0m\u001B[1;33m.\u001B[0m\u001B[0mname\u001B[0m \u001B[1;32mfor\u001B[0m \u001B[0mitem\u001B[0m \u001B[1;32min\u001B[0m \u001B[0mto_scan\u001B[0m\u001B[1;33m}\u001B[0m\u001B[1;33m,\u001B[0m \u001B[0mset\u001B[0m\u001B[1;33m(\u001B[0m\u001B[0mto_scan\u001B[0m\u001B[1;33m)\u001B[0m\u001B[1;33m)\u001B[0m\u001B[1;33m\u001B[0m\u001B[1;33m\u001B[0m\u001B[0m\n\u001B[0m\u001B[0;32m    117\u001B[0m \u001B[1;33m\u001B[0m\u001B[0m\n\u001B[0;32m    118\u001B[0m             \u001B[1;32mreturn\u001B[0m \u001B[0mnext_to_scan\u001B[0m\u001B[1;33m\u001B[0m\u001B[1;33m\u001B[0m\u001B[0m\n",
      "\u001B[1;31mUnexpectedCharacters\u001B[0m: No terminal defined for '<' at line 3 col 25\n\n    hashCode() printable<T1>() void mood() str {\n                        ^\n\nExpecting: {'NAME', 'RBRACE', 'LBRACE'}\n"
     ]
    }
   ],
   "source": [
    "print_parsed(r\"\"\"\n",
    "Male interface <T1, T2> Human, Printable, Hashable {\n",
    "    hashCode() int printable<T1>() void mood() str {\n",
    "    return \"OK\"\n",
    "    } shouldSleepAtTime(time Time) bool wantsToEat() bool {return true}\n",
    "}\n",
    "\"\"\"\n",
    ")"
   ],
   "metadata": {
    "collapsed": false,
    "pycharm": {
     "name": "#%%\n"
    }
   }
  },
  {
   "cell_type": "markdown",
   "source": [
    "### Test if a return type will be missed\n",
    "\n",
    "Expected: raised exception"
   ],
   "metadata": {
    "collapsed": false
   }
  },
  {
   "cell_type": "code",
   "execution_count": 39,
   "outputs": [
    {
     "ename": "KeyboardInterrupt",
     "evalue": "",
     "output_type": "error",
     "traceback": [
      "\u001B[1;31m---------------------------------------------------------------------------\u001B[0m",
      "\u001B[1;31mKeyboardInterrupt\u001B[0m                         Traceback (most recent call last)",
      "\u001B[1;32m<ipython-input-39-1cd0cd49c908>\u001B[0m in \u001B[0;36m<module>\u001B[1;34m\u001B[0m\n\u001B[0;32m      1\u001B[0m \u001B[1;31m# pydev_debug_cell\u001B[0m\u001B[1;33m\u001B[0m\u001B[1;33m\u001B[0m\u001B[1;33m\u001B[0m\u001B[0m\n\u001B[0;32m      2\u001B[0m \u001B[1;32mtry\u001B[0m\u001B[1;33m:\u001B[0m\u001B[1;33m\u001B[0m\u001B[1;33m\u001B[0m\u001B[0m\n\u001B[1;32m----> 3\u001B[1;33m     print_parsed(r\"\"\"\n\u001B[0m\u001B[0;32m      4\u001B[0m     Male interface <T1, T2> Human, Printable, Hashable {\n\u001B[0;32m      5\u001B[0m         \u001B[1;31m# printable has a missed type here type is missed\u001B[0m\u001B[1;33m\u001B[0m\u001B[1;33m\u001B[0m\u001B[1;33m\u001B[0m\u001B[0m\n",
      "\u001B[1;32m<ipython-input-28-4375da38c703>\u001B[0m in \u001B[0;36mprint_parsed\u001B[1;34m(text_to_parse)\u001B[0m\n\u001B[0;32m      4\u001B[0m \u001B[1;33m\u001B[0m\u001B[0m\n\u001B[0;32m      5\u001B[0m \u001B[1;32mdef\u001B[0m \u001B[0mprint_parsed\u001B[0m\u001B[1;33m(\u001B[0m\u001B[0mtext_to_parse\u001B[0m\u001B[1;33m:\u001B[0m \u001B[0mstr\u001B[0m\u001B[1;33m)\u001B[0m\u001B[1;33m:\u001B[0m\u001B[1;33m\u001B[0m\u001B[1;33m\u001B[0m\u001B[0m\n\u001B[1;32m----> 6\u001B[1;33m     \u001B[0mprint\u001B[0m\u001B[1;33m(\u001B[0m\u001B[0mlark\u001B[0m\u001B[1;33m.\u001B[0m\u001B[0mparse\u001B[0m\u001B[1;33m(\u001B[0m\u001B[0mtext_to_parse\u001B[0m\u001B[1;33m)\u001B[0m\u001B[1;33m.\u001B[0m\u001B[0mpretty\u001B[0m\u001B[1;33m(\u001B[0m\u001B[1;33m)\u001B[0m\u001B[1;33m)\u001B[0m\u001B[1;33m\u001B[0m\u001B[1;33m\u001B[0m\u001B[0m\n\u001B[0m\u001B[0;32m      7\u001B[0m \u001B[1;33m\u001B[0m\u001B[0m\n",
      "\u001B[1;32mc:\\users\\artsiom\\appdata\\local\\programs\\python\\python39\\lib\\site-packages\\lark\\lark.py\u001B[0m in \u001B[0;36mparse\u001B[1;34m(self, text, start, on_error)\u001B[0m\n\u001B[0;32m    493\u001B[0m \u001B[1;33m\u001B[0m\u001B[0m\n\u001B[0;32m    494\u001B[0m         \u001B[1;32mtry\u001B[0m\u001B[1;33m:\u001B[0m\u001B[1;33m\u001B[0m\u001B[1;33m\u001B[0m\u001B[0m\n\u001B[1;32m--> 495\u001B[1;33m             \u001B[1;32mreturn\u001B[0m \u001B[0mself\u001B[0m\u001B[1;33m.\u001B[0m\u001B[0mparser\u001B[0m\u001B[1;33m.\u001B[0m\u001B[0mparse\u001B[0m\u001B[1;33m(\u001B[0m\u001B[0mtext\u001B[0m\u001B[1;33m,\u001B[0m \u001B[0mstart\u001B[0m\u001B[1;33m=\u001B[0m\u001B[0mstart\u001B[0m\u001B[1;33m)\u001B[0m\u001B[1;33m\u001B[0m\u001B[1;33m\u001B[0m\u001B[0m\n\u001B[0m\u001B[0;32m    496\u001B[0m         \u001B[1;32mexcept\u001B[0m \u001B[0mUnexpectedInput\u001B[0m \u001B[1;32mas\u001B[0m \u001B[0me\u001B[0m\u001B[1;33m:\u001B[0m\u001B[1;33m\u001B[0m\u001B[1;33m\u001B[0m\u001B[0m\n\u001B[0;32m    497\u001B[0m             \u001B[1;32mif\u001B[0m \u001B[0mon_error\u001B[0m \u001B[1;32mis\u001B[0m \u001B[1;32mNone\u001B[0m\u001B[1;33m:\u001B[0m\u001B[1;33m\u001B[0m\u001B[1;33m\u001B[0m\u001B[0m\n",
      "\u001B[1;32mc:\\users\\artsiom\\appdata\\local\\programs\\python\\python39\\lib\\site-packages\\lark\\parser_frontends.py\u001B[0m in \u001B[0;36mparse\u001B[1;34m(self, text, start)\u001B[0m\n\u001B[0;32m    221\u001B[0m \u001B[1;33m\u001B[0m\u001B[0m\n\u001B[0;32m    222\u001B[0m     \u001B[1;32mdef\u001B[0m \u001B[0mparse\u001B[0m\u001B[1;33m(\u001B[0m\u001B[0mself\u001B[0m\u001B[1;33m,\u001B[0m \u001B[0mtext\u001B[0m\u001B[1;33m,\u001B[0m \u001B[0mstart\u001B[0m\u001B[1;33m)\u001B[0m\u001B[1;33m:\u001B[0m\u001B[1;33m\u001B[0m\u001B[1;33m\u001B[0m\u001B[0m\n\u001B[1;32m--> 223\u001B[1;33m         \u001B[1;32mreturn\u001B[0m \u001B[0mself\u001B[0m\u001B[1;33m.\u001B[0m\u001B[0m_parse\u001B[0m\u001B[1;33m(\u001B[0m\u001B[0mstart\u001B[0m\u001B[1;33m,\u001B[0m \u001B[0mtext\u001B[0m\u001B[1;33m)\u001B[0m\u001B[1;33m\u001B[0m\u001B[1;33m\u001B[0m\u001B[0m\n\u001B[0m\u001B[0;32m    224\u001B[0m \u001B[1;33m\u001B[0m\u001B[0m\n\u001B[0;32m    225\u001B[0m \u001B[1;32mclass\u001B[0m \u001B[0mXEarley_CompleteLex\u001B[0m\u001B[1;33m(\u001B[0m\u001B[0mXEarley\u001B[0m\u001B[1;33m)\u001B[0m\u001B[1;33m:\u001B[0m\u001B[1;33m\u001B[0m\u001B[1;33m\u001B[0m\u001B[0m\n",
      "\u001B[1;32mc:\\users\\artsiom\\appdata\\local\\programs\\python\\python39\\lib\\site-packages\\lark\\parser_frontends.py\u001B[0m in \u001B[0;36m_parse\u001B[1;34m(self, start, input, *args)\u001B[0m\n\u001B[0;32m     70\u001B[0m                 \u001B[1;32mraise\u001B[0m \u001B[0mValueError\u001B[0m\u001B[1;33m(\u001B[0m\u001B[1;34m\"Lark initialized with more than 1 possible start rule. Must specify which start rule to parse\"\u001B[0m\u001B[1;33m,\u001B[0m \u001B[0mstart\u001B[0m\u001B[1;33m)\u001B[0m\u001B[1;33m\u001B[0m\u001B[1;33m\u001B[0m\u001B[0m\n\u001B[0;32m     71\u001B[0m             \u001B[0mstart\u001B[0m \u001B[1;33m,\u001B[0m\u001B[1;33m=\u001B[0m \u001B[0mstart\u001B[0m\u001B[1;33m\u001B[0m\u001B[1;33m\u001B[0m\u001B[0m\n\u001B[1;32m---> 72\u001B[1;33m         \u001B[1;32mreturn\u001B[0m \u001B[0mself\u001B[0m\u001B[1;33m.\u001B[0m\u001B[0mparser\u001B[0m\u001B[1;33m.\u001B[0m\u001B[0mparse\u001B[0m\u001B[1;33m(\u001B[0m\u001B[0minput\u001B[0m\u001B[1;33m,\u001B[0m \u001B[0mstart\u001B[0m\u001B[1;33m,\u001B[0m \u001B[1;33m*\u001B[0m\u001B[0margs\u001B[0m\u001B[1;33m)\u001B[0m\u001B[1;33m\u001B[0m\u001B[1;33m\u001B[0m\u001B[0m\n\u001B[0m\u001B[0;32m     73\u001B[0m \u001B[1;33m\u001B[0m\u001B[0m\n\u001B[0;32m     74\u001B[0m \u001B[1;33m\u001B[0m\u001B[0m\n",
      "\u001B[1;32mc:\\users\\artsiom\\appdata\\local\\programs\\python\\python39\\lib\\site-packages\\lark\\parsers\\earley.py\u001B[0m in \u001B[0;36mparse\u001B[1;34m(self, stream, start)\u001B[0m\n\u001B[0;32m    292\u001B[0m                 \u001B[0mcolumns\u001B[0m\u001B[1;33m[\u001B[0m\u001B[1;36m0\u001B[0m\u001B[1;33m]\u001B[0m\u001B[1;33m.\u001B[0m\u001B[0madd\u001B[0m\u001B[1;33m(\u001B[0m\u001B[0mitem\u001B[0m\u001B[1;33m)\u001B[0m\u001B[1;33m\u001B[0m\u001B[1;33m\u001B[0m\u001B[0m\n\u001B[0;32m    293\u001B[0m \u001B[1;33m\u001B[0m\u001B[0m\n\u001B[1;32m--> 294\u001B[1;33m         \u001B[0mto_scan\u001B[0m \u001B[1;33m=\u001B[0m \u001B[0mself\u001B[0m\u001B[1;33m.\u001B[0m\u001B[0m_parse\u001B[0m\u001B[1;33m(\u001B[0m\u001B[0mstream\u001B[0m\u001B[1;33m,\u001B[0m \u001B[0mcolumns\u001B[0m\u001B[1;33m,\u001B[0m \u001B[0mto_scan\u001B[0m\u001B[1;33m,\u001B[0m \u001B[0mstart_symbol\u001B[0m\u001B[1;33m)\u001B[0m\u001B[1;33m\u001B[0m\u001B[1;33m\u001B[0m\u001B[0m\n\u001B[0m\u001B[0;32m    295\u001B[0m \u001B[1;33m\u001B[0m\u001B[0m\n\u001B[0;32m    296\u001B[0m         \u001B[1;31m# If the parse was successful, the start\u001B[0m\u001B[1;33m\u001B[0m\u001B[1;33m\u001B[0m\u001B[1;33m\u001B[0m\u001B[0m\n",
      "\u001B[1;32mc:\\users\\artsiom\\appdata\\local\\programs\\python\\python39\\lib\\site-packages\\lark\\parsers\\earley.py\u001B[0m in \u001B[0;36mparse\u001B[1;34m(self, stream, start)\u001B[0m\n\u001B[0;32m    292\u001B[0m                 \u001B[0mcolumns\u001B[0m\u001B[1;33m[\u001B[0m\u001B[1;36m0\u001B[0m\u001B[1;33m]\u001B[0m\u001B[1;33m.\u001B[0m\u001B[0madd\u001B[0m\u001B[1;33m(\u001B[0m\u001B[0mitem\u001B[0m\u001B[1;33m)\u001B[0m\u001B[1;33m\u001B[0m\u001B[1;33m\u001B[0m\u001B[0m\n\u001B[0;32m    293\u001B[0m \u001B[1;33m\u001B[0m\u001B[0m\n\u001B[1;32m--> 294\u001B[1;33m         \u001B[0mto_scan\u001B[0m \u001B[1;33m=\u001B[0m \u001B[0mself\u001B[0m\u001B[1;33m.\u001B[0m\u001B[0m_parse\u001B[0m\u001B[1;33m(\u001B[0m\u001B[0mstream\u001B[0m\u001B[1;33m,\u001B[0m \u001B[0mcolumns\u001B[0m\u001B[1;33m,\u001B[0m \u001B[0mto_scan\u001B[0m\u001B[1;33m,\u001B[0m \u001B[0mstart_symbol\u001B[0m\u001B[1;33m)\u001B[0m\u001B[1;33m\u001B[0m\u001B[1;33m\u001B[0m\u001B[0m\n\u001B[0m\u001B[0;32m    295\u001B[0m \u001B[1;33m\u001B[0m\u001B[0m\n\u001B[0;32m    296\u001B[0m         \u001B[1;31m# If the parse was successful, the start\u001B[0m\u001B[1;33m\u001B[0m\u001B[1;33m\u001B[0m\u001B[1;33m\u001B[0m\u001B[0m\n",
      "\u001B[1;32m_pydevd_bundle\\pydevd_cython_win32_39_64.pyx\u001B[0m in \u001B[0;36m_pydevd_bundle.pydevd_cython_win32_39_64.ThreadTracer.__call__\u001B[1;34m()\u001B[0m\n",
      "\u001B[1;32m_pydevd_bundle\\pydevd_cython_win32_39_64.pyx\u001B[0m in \u001B[0;36m_pydevd_bundle.pydevd_cython_win32_39_64.PyDBFrame.trace_dispatch\u001B[1;34m()\u001B[0m\n",
      "\u001B[1;32m_pydevd_bundle\\pydevd_cython_win32_39_64.pyx\u001B[0m in \u001B[0;36m_pydevd_bundle.pydevd_cython_win32_39_64.PyDBFrame.trace_dispatch\u001B[1;34m()\u001B[0m\n",
      "\u001B[1;32m_pydevd_bundle\\pydevd_cython_win32_39_64.pyx\u001B[0m in \u001B[0;36m_pydevd_bundle.pydevd_cython_win32_39_64.PyDBFrame.do_wait_suspend\u001B[1;34m()\u001B[0m\n",
      "\u001B[1;32m~\\AppData\\Local\\JetBrains\\Toolbox\\apps\\PyCharm-P\\ch-0\\203.5981.165\\plugins\\python\\helpers\\pydev\\pydevd.py\u001B[0m in \u001B[0;36mdo_wait_suspend\u001B[1;34m(self, thread, frame, event, arg, send_suspend_message, is_unhandled_exception)\u001B[0m\n\u001B[0;32m   1139\u001B[0m \u001B[1;33m\u001B[0m\u001B[0m\n\u001B[0;32m   1140\u001B[0m         \u001B[1;32mwith\u001B[0m \u001B[0mself\u001B[0m\u001B[1;33m.\u001B[0m\u001B[0m_threads_suspended_single_notification\u001B[0m\u001B[1;33m.\u001B[0m\u001B[0mnotify_thread_suspended\u001B[0m\u001B[1;33m(\u001B[0m\u001B[0mthread_id\u001B[0m\u001B[1;33m,\u001B[0m \u001B[0mstop_reason\u001B[0m\u001B[1;33m)\u001B[0m\u001B[1;33m:\u001B[0m\u001B[1;33m\u001B[0m\u001B[1;33m\u001B[0m\u001B[0m\n\u001B[1;32m-> 1141\u001B[1;33m             \u001B[0mself\u001B[0m\u001B[1;33m.\u001B[0m\u001B[0m_do_wait_suspend\u001B[0m\u001B[1;33m(\u001B[0m\u001B[0mthread\u001B[0m\u001B[1;33m,\u001B[0m \u001B[0mframe\u001B[0m\u001B[1;33m,\u001B[0m \u001B[0mevent\u001B[0m\u001B[1;33m,\u001B[0m \u001B[0marg\u001B[0m\u001B[1;33m,\u001B[0m \u001B[0msuspend_type\u001B[0m\u001B[1;33m,\u001B[0m \u001B[0mfrom_this_thread\u001B[0m\u001B[1;33m)\u001B[0m\u001B[1;33m\u001B[0m\u001B[1;33m\u001B[0m\u001B[0m\n\u001B[0m\u001B[0;32m   1142\u001B[0m \u001B[1;33m\u001B[0m\u001B[0m\n\u001B[0;32m   1143\u001B[0m     \u001B[1;32mdef\u001B[0m \u001B[0m_do_wait_suspend\u001B[0m\u001B[1;33m(\u001B[0m\u001B[0mself\u001B[0m\u001B[1;33m,\u001B[0m \u001B[0mthread\u001B[0m\u001B[1;33m,\u001B[0m \u001B[0mframe\u001B[0m\u001B[1;33m,\u001B[0m \u001B[0mevent\u001B[0m\u001B[1;33m,\u001B[0m \u001B[0marg\u001B[0m\u001B[1;33m,\u001B[0m \u001B[0msuspend_type\u001B[0m\u001B[1;33m,\u001B[0m \u001B[0mfrom_this_thread\u001B[0m\u001B[1;33m)\u001B[0m\u001B[1;33m:\u001B[0m\u001B[1;33m\u001B[0m\u001B[1;33m\u001B[0m\u001B[0m\n",
      "\u001B[1;32m~\\AppData\\Local\\JetBrains\\Toolbox\\apps\\PyCharm-P\\ch-0\\203.5981.165\\plugins\\python\\helpers\\pydev\\pydevd.py\u001B[0m in \u001B[0;36m_do_wait_suspend\u001B[1;34m(self, thread, frame, event, arg, suspend_type, from_this_thread)\u001B[0m\n\u001B[0;32m   1154\u001B[0m \u001B[1;33m\u001B[0m\u001B[0m\n\u001B[0;32m   1155\u001B[0m                 \u001B[0mself\u001B[0m\u001B[1;33m.\u001B[0m\u001B[0mprocess_internal_commands\u001B[0m\u001B[1;33m(\u001B[0m\u001B[1;33m)\u001B[0m\u001B[1;33m\u001B[0m\u001B[1;33m\u001B[0m\u001B[0m\n\u001B[1;32m-> 1156\u001B[1;33m                 \u001B[0mtime\u001B[0m\u001B[1;33m.\u001B[0m\u001B[0msleep\u001B[0m\u001B[1;33m(\u001B[0m\u001B[1;36m0.01\u001B[0m\u001B[1;33m)\u001B[0m\u001B[1;33m\u001B[0m\u001B[1;33m\u001B[0m\u001B[0m\n\u001B[0m\u001B[0;32m   1157\u001B[0m \u001B[1;33m\u001B[0m\u001B[0m\n\u001B[0;32m   1158\u001B[0m         \u001B[0mself\u001B[0m\u001B[1;33m.\u001B[0m\u001B[0mcancel_async_evaluation\u001B[0m\u001B[1;33m(\u001B[0m\u001B[0mget_current_thread_id\u001B[0m\u001B[1;33m(\u001B[0m\u001B[0mthread\u001B[0m\u001B[1;33m)\u001B[0m\u001B[1;33m,\u001B[0m \u001B[0mstr\u001B[0m\u001B[1;33m(\u001B[0m\u001B[0mid\u001B[0m\u001B[1;33m(\u001B[0m\u001B[0mframe\u001B[0m\u001B[1;33m)\u001B[0m\u001B[1;33m)\u001B[0m\u001B[1;33m)\u001B[0m\u001B[1;33m\u001B[0m\u001B[1;33m\u001B[0m\u001B[0m\n",
      "\u001B[1;31mKeyboardInterrupt\u001B[0m: "
     ]
    }
   ],
   "source": [
    "try:\n",
    "    print_parsed(r\"\"\"\n",
    "    Male interface <T1, T2> Human, Printable, Hashable {\n",
    "        # printable has a missed type here type is missed\n",
    "        hashCode() int printable<T1>() mood() str { return \"OK\" }\n",
    "    }\n",
    "    \"\"\"\n",
    "    )\n",
    "except Exception as ex:\n",
    "    print(\"OK, exception was raised\")\n",
    "    print(ex)\n",
    "else:\n",
    "    raise Exception(\"Exception must be raised\")"
   ],
   "metadata": {
    "collapsed": false,
    "pycharm": {
     "name": "#%%\n"
    }
   }
  },
  {
   "cell_type": "markdown",
   "source": [
    "## Classes\n",
    "\n",
    "### Grammar\n",
    "\n",
    "```txt\n",
    "class_declaration: NAME \"class\" type_arguments? ABSTRACT? class_hint \"{\" class_body \"}\"\n",
    "// parent class and interfaces (parent class must stay first)\n",
    "class_hint: (NAME (\",\" NAME)*)?\n",
    "class_body: (class_member_declaration)*\n",
    "class_member_declaration: function_declaration | property_declaration | abstract_function_declaration\n",
    "```\n",
    "\n",
    "### Abstract class declaration\n",
    "\n",
    "Expected: abstract class declaration with 1 function declared"
   ],
   "metadata": {
    "collapsed": false,
    "pycharm": {
     "name": "#%% md\n"
    }
   }
  },
  {
   "cell_type": "code",
   "execution_count": 46,
   "outputs": [
    {
     "name": "stdout",
     "output_type": "stream",
     "text": [
      "start\n",
      "  declaration\n",
      "    class_declaration\n",
      "      Male\n",
      "      abstract\n",
      "      class_hint\n",
      "        Human\n",
      "        Printable\n",
      "      class_body\n",
      "        class_member_declaration\n",
      "          abstract_function_declaration\n",
      "            foo\n",
      "            function_parameters\n",
      "            abstract\n",
      "            str\n",
      "\n"
     ]
    }
   ],
   "source": [
    "print_parsed(r\"\"\"\n",
    "Male class abstract Human, Printable {\n",
    "    foo() abstract str\n",
    "}\n",
    "\"\"\")"
   ],
   "metadata": {
    "collapsed": false,
    "pycharm": {
     "name": "#%%\n"
    }
   }
  },
  {
   "cell_type": "markdown",
   "source": [
    "### Multiple function declarations\n",
    "\n",
    "Expected: abstract class declaration with 4 functions"
   ],
   "metadata": {
    "collapsed": false
   }
  },
  {
   "cell_type": "code",
   "execution_count": 47,
   "outputs": [
    {
     "name": "stdout",
     "output_type": "stream",
     "text": [
      "start\n",
      "  declaration\n",
      "    class_declaration\n",
      "      Male\n",
      "      abstract\n",
      "      class_hint\n",
      "      class_body\n",
      "        class_member_declaration\n",
      "          abstract_function_declaration\n",
      "            foo\n",
      "            function_parameters\n",
      "            abstract\n",
      "            str\n",
      "        class_member_declaration\n",
      "          function_declaration\n",
      "            bar\n",
      "            function_parameters\n",
      "            statements_block\n",
      "              statement\n",
      "                jump_statement\n",
      "                  return\n",
      "                  disjunction\n",
      "                    conjunction\n",
      "                      equality\n",
      "                        comparison\n",
      "                          additive_expression\n",
      "                            multiplicative_expression\n",
      "                              prefix_unary_expression\n",
      "                                postfix_unary_expression\n",
      "                                  primary_expression\n",
      "                                    simple_literal\t\"bar\"\n",
      "        class_member_declaration\n",
      "          abstract_function_declaration\n",
      "            kek\n",
      "            function_parameters\n",
      "            abstract\n",
      "            bool\n",
      "        class_member_declaration\n",
      "          function_declaration\n",
      "            lol\n",
      "            function_parameters\n",
      "            int\n",
      "            statements_block\n",
      "              statement\n",
      "                jump_statement\n",
      "                  return\n",
      "                  disjunction\n",
      "                    conjunction\n",
      "                      equality\n",
      "                        comparison\n",
      "                          additive_expression\n",
      "                            multiplicative_expression\n",
      "                              prefix_unary_expression\n",
      "                                postfix_unary_expression\n",
      "                                  primary_expression\n",
      "                                    simple_literal\t10\n",
      "\n"
     ]
    }
   ],
   "source": [
    "print_parsed(r\"\"\"\n",
    "Male class abstract {\n",
    "    foo() abstract str\n",
    "    bar() {\n",
    "        return \"bar\"\n",
    "    }\n",
    "    kek() abstract bool\n",
    "    lol() int {\n",
    "        return 10\n",
    "    }\n",
    "}\"\"\")\n"
   ],
   "metadata": {
    "collapsed": false,
    "pycharm": {
     "name": "#%%\n"
    }
   }
  },
  {
   "cell_type": "markdown",
   "source": [
    "### Class declarations and property declarations\n",
    "\n",
    "Expected: 1 function -> 2 properties -> 1 function"
   ],
   "metadata": {
    "collapsed": false
   }
  },
  {
   "cell_type": "code",
   "execution_count": 52,
   "outputs": [
    {
     "name": "stdout",
     "output_type": "stream",
     "text": [
      "start\n",
      "  declaration\n",
      "    class_declaration\n",
      "      Male\n",
      "      abstract\n",
      "      class_hint\n",
      "      class_body\n",
      "        class_member_declaration\n",
      "          function_declaration\n",
      "            foo\n",
      "            function_parameters\n",
      "            str\n",
      "            statements_block\n",
      "              statement\n",
      "                jump_statement\n",
      "                  return\n",
      "                  disjunction\n",
      "                    conjunction\n",
      "                      equality\n",
      "                        comparison\n",
      "                          additive_expression\n",
      "                            multiplicative_expression\n",
      "                              prefix_unary_expression\n",
      "                                postfix_unary_expression\n",
      "                                  primary_expression\n",
      "                                    simple_literal\t\"foo\"\n",
      "        class_member_declaration\n",
      "          property_declaration\tbar\n",
      "        class_member_declaration\n",
      "          property_declaration\n",
      "            int\n",
      "            val\n",
      "        class_member_declaration\n",
      "          property_declaration\n",
      "            lol\n",
      "            type\n",
      "              simple_user_type\tbool\n",
      "            public\n",
      "            var\n",
      "            disjunction\n",
      "              conjunction\n",
      "                equality\n",
      "                  comparison\n",
      "                    additive_expression\n",
      "                      multiplicative_expression\n",
      "                        prefix_unary_expression\n",
      "                          postfix_unary_expression\n",
      "                            primary_expression\tfalse\n",
      "        class_member_declaration\n",
      "          abstract_function_declaration\n",
      "            kek\n",
      "            function_parameters\n",
      "            abstract\n",
      "            bool\n",
      "\n"
     ]
    }
   ],
   "source": [
    "print_parsed(r\"\"\"\n",
    "Male class abstract {\n",
    "    foo() str {return \"foo\"}\n",
    "    bar int val\n",
    "    lol bool public var = false\n",
    "    kek() abstract bool\n",
    "}\n",
    "\"\"\")"
   ],
   "metadata": {
    "collapsed": false,
    "pycharm": {
     "name": "#%%\n"
    }
   }
  },
  {
   "cell_type": "markdown",
   "source": [
    "### Declarations without a new line\n",
    "\n",
    "Expected: throw an error"
   ],
   "metadata": {
    "collapsed": false
   }
  },
  {
   "cell_type": "code",
   "execution_count": 58,
   "outputs": [
    {
     "name": "stdout",
     "output_type": "stream",
     "text": [
      "OK, it raises an exception\n",
      "No terminal defined for 'b' at line 3 col 34\n",
      "\n",
      "        foo() str {return \"foo\"} bar int val lol bool public var = false \n",
      "                                 ^\n",
      "\n",
      "Expecting: {'RBRACE', '_NL'}\n",
      "\n"
     ]
    }
   ],
   "source": [
    "try:\n",
    "    print_parsed(r\"\"\"\n",
    "    Male class abstract {\n",
    "        foo() str {return \"foo\"} bar int val lol bool public var = false kek() abstract bool\n",
    "    }\n",
    "    \"\"\")\n",
    "except Exception as ex:\n",
    "    print(\"OK, it raises an exception\")\n",
    "    print(ex)\n",
    "else:\n",
    "    raise Exception(\"It must raise an exception\")"
   ],
   "metadata": {
    "collapsed": false,
    "pycharm": {
     "name": "#%%\n"
    }
   }
  }
 ],
 "metadata": {
  "kernelspec": {
   "display_name": "Python 3",
   "language": "python",
   "name": "python3"
  },
  "language_info": {
   "codemirror_mode": {
    "name": "ipython",
    "version": 3
   },
   "file_extension": ".py",
   "mimetype": "text/x-python",
   "name": "python",
   "nbconvert_exporter": "python",
   "pygments_lexer": "ipython3",
   "version": "3.9.0"
  }
 },
 "nbformat": 4,
 "nbformat_minor": 1
}